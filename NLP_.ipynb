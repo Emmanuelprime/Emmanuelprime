{
  "nbformat": 4,
  "nbformat_minor": 0,
  "metadata": {
    "colab": {
      "name": "Untitled12.ipynb",
      "provenance": [],
      "authorship_tag": "ABX9TyP8sHB7PQEYq/SH8VUhu0vk",
      "include_colab_link": true
    },
    "kernelspec": {
      "name": "python3",
      "display_name": "Python 3"
    },
    "language_info": {
      "name": "python"
    },
    "accelerator": "GPU",
    "gpuClass": "standard"
  },
  "cells": [
    {
      "cell_type": "markdown",
      "metadata": {
        "id": "view-in-github",
        "colab_type": "text"
      },
      "source": [
        "<a href=\"https://colab.research.google.com/github/Emmanuelprime/Emmanuelprime/blob/main/NLP_.ipynb\" target=\"_parent\"><img src=\"https://colab.research.google.com/assets/colab-badge.svg\" alt=\"Open In Colab\"/></a>"
      ]
    },
    {
      "cell_type": "markdown",
      "source": [
        "importing dependences"
      ],
      "metadata": {
        "id": "JpLLyDscMgSd"
      }
    },
    {
      "cell_type": "code",
      "execution_count": 1,
      "metadata": {
        "id": "yx5ldBXsLq0z"
      },
      "outputs": [],
      "source": [
        "import numpy as np\n",
        "import tensorflow as tf\n",
        "import matplotlib.pyplot as plt\n",
        "import pandas as pd\n",
        "import nltk\n",
        "import re\n",
        "import json\n",
        "from nltk.corpus import stopwords\n",
        "from tensorflow.keras.preprocessing.text import one_hot, Tokenizer\n",
        "from tensorflow.keras.preprocessing.sequence import pad_sequences\n",
        "from nltk.stem.porter import PorterStemmer\n",
        "np.random.seed(42)\n"
      ]
    },
    {
      "cell_type": "markdown",
      "source": [
        "Declaring the variables"
      ],
      "metadata": {
        "id": "YSy7C1zEND-y"
      }
    },
    {
      "cell_type": "code",
      "source": [
        "sentences =[]\n",
        "labels =[]\n",
        "vocabulary_size =10000\n",
        "sententence_length = 40\n",
        "feature_dimension = 50\n"
      ],
      "metadata": {
        "id": "mHjsEotNNN3f"
      },
      "execution_count": 3,
      "outputs": []
    },
    {
      "cell_type": "markdown",
      "source": [
        "Reading in the dataset"
      ],
      "metadata": {
        "id": "PBiT5vtrN-qk"
      }
    },
    {
      "cell_type": "code",
      "source": [
        "with open('sca.json') as f:\n",
        "  words_list = json.load(f)\n",
        "\n",
        "  for items in words_list:\n",
        "    sentences.append(items['headline'])\n",
        "    labels.append(items['is_sarcastic'])"
      ],
      "metadata": {
        "id": "5UpZiFqXOBCT"
      },
      "execution_count": 4,
      "outputs": []
    },
    {
      "cell_type": "markdown",
      "source": [
        "Preprocessing of the text"
      ],
      "metadata": {
        "id": "J6XY8A3SPRnC"
      }
    },
    {
      "cell_type": "code",
      "source": [
        "from nltk.tag import sequential\n",
        "token = Tokenizer(num_words=vocabulary_size,oov_token='<oov>')\n",
        "token.fit_on_texts(sentences)\n",
        "sequential_form = token.texts_to_sequences(sentences)\n",
        "pad_result = pad_sequences(sequential_form,padding ='post',maxlen = sententence_length)"
      ],
      "metadata": {
        "id": "gHA2sVm-PVNi"
      },
      "execution_count": null,
      "outputs": []
    },
    {
      "cell_type": "markdown",
      "source": [
        "Creating training and testing data"
      ],
      "metadata": {
        "id": "v7GzJv0xRl8s"
      }
    },
    {
      "cell_type": "code",
      "source": [
        "from sklearn.model_selection import train_test_split\n",
        "X = np.array(pad_result)\n",
        "Y = np.array(labels)\n",
        "x_train,x_test,y_train,y_test = train_test_split(X,Y,test_size=0.1,random_state =42)"
      ],
      "metadata": {
        "id": "Seu_9Z7URtWU"
      },
      "execution_count": 13,
      "outputs": []
    },
    {
      "cell_type": "markdown",
      "source": [
        "Creating the model"
      ],
      "metadata": {
        "id": "Y5EGsq50TW1L"
      }
    },
    {
      "cell_type": "code",
      "source": [
        "model = tf.keras.Sequential([\n",
        "    tf.keras.layers.Embedding(vocabulary_size,feature_dimension,input_length=sententence_length),\n",
        "    tf.keras.layers.LSTM(128,return_sequences=True),\n",
        "    tf.keras.layers.LSTM(100,return_sequences= True),\n",
        "    tf.keras.layers.LSTM(100),\n",
        "    tf.keras.layers.Dense(64,activation = 'relu'),\n",
        "    tf.keras.layers.Dense(1, activation ='sigmoid')\n",
        "])"
      ],
      "metadata": {
        "id": "TPXapJGoToKb"
      },
      "execution_count": 14,
      "outputs": []
    },
    {
      "cell_type": "markdown",
      "source": [
        "Compiling and fitting the model"
      ],
      "metadata": {
        "id": "fVs1sVzjUybe"
      }
    },
    {
      "cell_type": "code",
      "source": [
        "model.compile(optimizer = 'adam',loss = 'binary_crossentropy',metrics =['accuracy'])\n",
        "model.fit(x_train,y_train,epochs =10,validation_data =(x_test,y_test))"
      ],
      "metadata": {
        "id": "phnVnSysU2AT"
      },
      "execution_count": null,
      "outputs": []
    }
  ]
}